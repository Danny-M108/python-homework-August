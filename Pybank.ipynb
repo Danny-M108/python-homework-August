{
 "cells": [
  {
   "cell_type": "code",
   "execution_count": 2,
   "id": "ef905d8e",
   "metadata": {},
   "outputs": [],
   "source": [
    "#Import libraries\n",
    "\n",
    "import os\n",
    "import csv\n",
    "\n",
    "# map the csv file\n",
    "csv_1 = 'Homework_Week 2_Instructions_PyBank_Resources_budget_data.csv'\n",
    "\n",
    "#create import lists for the CSV data\n",
    "month_list = []\n",
    "profit_loss_list = []\n",
    "\n",
    "# import the csv file\n",
    "with open('Homework_Week 2_Instructions_PyBank_Resources_budget_data.csv', \"r\") as csv_file:\n",
    "    csv_reader = csv.reader(csv_file)\n",
    "    next(csv_reader)\n",
    "\n",
    "    for row in csv_reader:\n",
    "        month_list.append(str(row[0]))\n",
    "        profit_loss_list.append(int(row[1]))\n",
    "         \n",
    "                \n",
    "     "
   ]
  },
  {
   "cell_type": "code",
   "execution_count": 3,
   "id": "7be5f18b",
   "metadata": {},
   "outputs": [
    {
     "name": "stdout",
     "output_type": "stream",
     "text": [
      "['Jan-10', 'Feb-10', 'Mar-10', 'Apr-10', 'May-10', 'Jun-10', 'Jul-10', 'Aug-10', 'Sep-10', 'Oct-10', 'Nov-10', 'Dec-10', 'Jan-11', 'Feb-11', 'Mar-11', 'Apr-11', 'May-11', 'Jun-11', 'Jul-11', 'Aug-11', 'Sep-11', 'Oct-11', 'Nov-11', 'Dec-11', 'Jan-12', 'Feb-12', 'Mar-12', 'Apr-12', 'May-12', 'Jun-12', 'Jul-12', 'Aug-12', 'Sep-12', 'Oct-12', 'Nov-12', 'Dec-12', 'Jan-13', 'Feb-13', 'Mar-13', 'Apr-13', 'May-13', 'Jun-13', 'Jul-13', 'Aug-13', 'Sep-13', 'Oct-13', 'Nov-13', 'Dec-13', 'Jan-14', 'Feb-14', 'Mar-14', 'Apr-14', 'May-14', 'Jun-14', 'Jul-14', 'Aug-14', 'Sep-14', 'Oct-14', 'Nov-14', 'Dec-14', 'Jan-15', 'Feb-15', 'Mar-15', 'Apr-15', 'May-15', 'Jun-15', 'Jul-15', 'Aug-15', 'Sep-15', 'Oct-15', 'Nov-15', 'Dec-15', 'Jan-16', 'Feb-16', 'Mar-16', 'Apr-16', 'May-16', 'Jun-16', 'Jul-16', 'Aug-16', 'Sep-16', 'Oct-16', 'Nov-16', 'Dec-16', 'Jan-17', 'Feb-17']\n"
     ]
    }
   ],
   "source": [
    "print (month_list)"
   ]
  },
  {
   "cell_type": "code",
   "execution_count": 4,
   "id": "7593c177",
   "metadata": {},
   "outputs": [
    {
     "name": "stdout",
     "output_type": "stream",
     "text": [
      "[867884, 984655, 322013, -69417, 310503, 522857, 1033096, 604885, -216386, 477532, 893810, -80353, 779806, -335203, 697845, 793163, 485070, 584122, 62729, 668179, 899906, 834719, 132003, 309978, -755566, 1170593, 252788, 1151518, 817256, 570757, 506702, -1022534, 475062, 779976, 144175, 542494, 359333, 321469, 67780, 471435, 565603, 872480, 789480, 999942, -1196225, 268997, -687986, 1150461, 682458, 617856, 824098, 581943, 132864, 448062, 689161, 800701, 1166643, 947333, 578668, 988505, 1139715, 1029471, 687533, -524626, 158620, 87795, 423389, 840723, 568529, 332067, 989499, 778237, 650000, -1100387, -174946, 757143, 445709, 712961, -1163797, 569899, 768450, 102685, 795914, 60988, 138230, 671099]\n"
     ]
    }
   ],
   "source": [
    "print(profit_loss_list)"
   ]
  },
  {
   "cell_type": "code",
   "execution_count": 5,
   "id": "253feb6b",
   "metadata": {},
   "outputs": [
    {
     "name": "stdout",
     "output_type": "stream",
     "text": [
      "86\n"
     ]
    }
   ],
   "source": [
    "# the total number of months included in the dataset\n",
    "total_months = len(month_list)\n",
    "\n",
    "print(total_months)"
   ]
  },
  {
   "cell_type": "code",
   "execution_count": 6,
   "id": "18e66d90",
   "metadata": {},
   "outputs": [
    {
     "name": "stdout",
     "output_type": "stream",
     "text": [
      "38382578\n"
     ]
    }
   ],
   "source": [
    "# the net profit/loss\n",
    "net_profit_loss = 0\n",
    "\n",
    "for x in profit_loss_list:\n",
    "    net_profit_loss = net_profit_loss + x\n",
    "    \n",
    "print(net_profit_loss)"
   ]
  },
  {
   "cell_type": "code",
   "execution_count": 7,
   "id": "1f812a04",
   "metadata": {},
   "outputs": [
    {
     "name": "stdout",
     "output_type": "stream",
     "text": [
      "-2315.12\n"
     ]
    }
   ],
   "source": [
    "# the average profit/loss\n",
    "average_monthly_change_list = []\n",
    "previous_month_amount = 0\n",
    "\n",
    "for x in range(len(profit_loss_list)):\n",
    "    if x == 0:\n",
    "        previous_month_amount = profit_loss_list[x]\n",
    "    else:\n",
    "        monthly_change = profit_loss_list[x] - previous_month_amount\n",
    "        average_monthly_change_list.append(monthly_change)\n",
    "        previous_month_amount = profit_loss_list[x]\n",
    "\n",
    "# print(average_monthly_change_list)\n",
    "length = len(average_monthly_change_list)\n",
    "total = sum(average_monthly_change_list)\n",
    "profit_loss_average = round (total / length,2)\n",
    "print(profit_loss_average)\n"
   ]
  },
  {
   "cell_type": "code",
   "execution_count": 8,
   "id": "dfff63e2",
   "metadata": {},
   "outputs": [
    {
     "name": "stdout",
     "output_type": "stream",
     "text": [
      "Feb-12\n",
      "1926159\n",
      "Sep-13\n",
      "-2196167\n"
     ]
    }
   ],
   "source": [
    "# the min and max profit/loss and corresponding month\n",
    "\n",
    "month_greatest_increase = ''\n",
    "amount_greatest_increase = 0\n",
    "month_greatest_decrease = ''\n",
    "amount_greatest_decrease = 0\n",
    "\n",
    "for x in range(len(average_monthly_change_list)):\n",
    "    if average_monthly_change_list[x] > amount_greatest_increase:\n",
    "        amount_greatest_increase = average_monthly_change_list[x]\n",
    "        month_greatest_increase = month_list[x+1]\n",
    "    elif average_monthly_change_list[x] < amount_greatest_decrease:\n",
    "        amount_greatest_decrease = average_monthly_change_list[x]\n",
    "        month_greatest_decrease = month_list[x+1]\n",
    "\n",
    "print(month_greatest_increase)\n",
    "print(amount_greatest_increase)\n",
    "print(month_greatest_decrease)\n",
    "print(amount_greatest_decrease)"
   ]
  },
  {
   "cell_type": "code",
   "execution_count": 9,
   "id": "96cd01f1",
   "metadata": {},
   "outputs": [
    {
     "name": "stdout",
     "output_type": "stream",
     "text": [
      "Financial Analysis\n",
      "....................\n",
      "Total Months: 86\n",
      "Total: $38382578.\n",
      "Average Change: $-2315.12\n",
      "Greatest Increase in Profits: Feb-12 for $1926159\n",
      "Greatest decrease in Profits: Sep-13 for $-2196167\n"
     ]
    }
   ],
   "source": [
    "\n",
    "print('Financial Analysis')\n",
    "print('....................')\n",
    "\n",
    "# The total number of months included in the dataset\n",
    "print(f'Total Months: {total_months}')\n",
    "\n",
    "#The net total amount of \"Profit/Lossess\" over the entire period\n",
    "print(f'Total: ${net_profit_loss}.')\n",
    "\n",
    "#The average of the changes in \"Profit/Losses\" over the entire period\n",
    "print(f'Average Change: ${profit_loss_average}')\n",
    "\n",
    "#The greatest increase in profits (date and amount) over the entire period\n",
    "print(f'Greatest Increase in Profits: {month_greatest_increase} for ${amount_greatest_increase}')\n",
    "      \n",
    "#The greatest decrease in losses (date and amount) over the entire period\n",
    "print(f'Greatest decrease in Profits: {month_greatest_decrease} for ${amount_greatest_decrease}')"
   ]
  },
  {
   "cell_type": "code",
   "execution_count": 10,
   "id": "17ad171e",
   "metadata": {},
   "outputs": [],
   "source": [
    "with open('Homework_Week2_Instructions_Pybank_Resources_budget_data.csv' , \"w\") as file:\n",
    "    file.write(\"Financial Analysis\\n\")\n",
    "    file.write(\"...................\\n\")\n",
    "    file.write(\"Total Months: %d\\n\" % total_months)\n",
    "    file.write(\"Total: $%d\\n\" % net_profit_loss)\n",
    "    file.write(\"Average Change: $%d\\n\" % profit_loss_average)\n",
    "    file.write(\"Greatest Increase in Profits: %s for $%s\\n\" % (month_greatest_increase, amount_greatest_increase))\n",
    "    file.write(\"Greatest Decrease in Profits: %s for $%s\\n\" % (month_greatest_decrease, amount_greatest_decrease))"
   ]
  },
  {
   "cell_type": "code",
   "execution_count": null,
   "id": "c7531873-a9ee-44cd-90a2-30629ea1bd3b",
   "metadata": {},
   "outputs": [],
   "source": []
  }
 ],
 "metadata": {
  "kernelspec": {
   "display_name": "Python 3 (ipykernel)",
   "language": "python",
   "name": "python3"
  },
  "language_info": {
   "codemirror_mode": {
    "name": "ipython",
    "version": 3
   },
   "file_extension": ".py",
   "mimetype": "text/x-python",
   "name": "python",
   "nbconvert_exporter": "python",
   "pygments_lexer": "ipython3",
   "version": "3.8.5"
  }
 },
 "nbformat": 4,
 "nbformat_minor": 5
}
